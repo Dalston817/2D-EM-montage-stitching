{
 "cells": [
  {
   "cell_type": "markdown",
   "id": "1d721877",
   "metadata": {},
   "source": [
    "Python version of build2DTileConfigForStitchingFromDoc.m"
   ]
  },
  {
   "cell_type": "code",
   "execution_count": null,
   "id": "9bc1c1d2",
   "metadata": {},
   "outputs": [],
   "source": [
    "from pathlib import Path\n",
    "import numpy as np # TODO DEV numpy used? Remove?"
   ]
  },
  {
   "cell_type": "code",
   "execution_count": 7,
   "id": "e9990435",
   "metadata": {},
   "outputs": [
    {
     "name": "stdout",
     "output_type": "stream",
     "text": [
      "First 400 Characters in file:\n",
      "\n",
      " PixelSpacing = 24.34\n",
      "ImageFile = MontageTest_10EOD_10x10.mrc\n",
      "ImageSize = 4896 3264\n",
      "Montage = 1\n",
      "DataMode = 6\n",
      "\n",
      "[T = SerialEM: Digitized on the Hitachi HT7700               26-Feb-25  11:44:47    ]\n",
      "\n",
      "[T =     Tilt axis angle = 179.8, binning = 1  spot = 5  camera = 0]\n",
      "\n",
      "[ZValue = 0]\n",
      "TiltAngle = 0.5\n",
      "PieceCoordinates = 0 0 0\n",
      "StagePosition = -436.1 210.8\n",
      "StageZ = 0\n",
      "Magnification = 5000\n",
      "Intensity = 0.43871\n"
     ]
    }
   ],
   "source": [
    "# Select and load .idoc or .mdoc file\n",
    "workingPathPath = Path(r'C:\\Users\\David\\Desktop\\mybox-selected\\12Subset')\n",
    "docFile = (list(workingPathPath.glob('*.mdoc*')) + list(workingPathPath.glob('*.idoc*')))\n",
    "if len(docFile) != 1:\n",
    "    raise ValueError(f'Expected exactly one .mdoc or .idoc file in {workingPathPath}, found {len(docFile)} files.')\n",
    "docFile = docFile[0]  # Get the first file if multiple found\n",
    "tifFiles = list(workingPathPath.glob('*.tif*'))\n",
    "fID = open(docFile, 'r')\n",
    "docTxt = fID.read()\n",
    "fID.close()\n",
    "print('First 400 Characters in file:\\n\\n', docTxt[:400])"
   ]
  },
  {
   "cell_type": "code",
   "execution_count": 9,
   "id": "e03647e2",
   "metadata": {},
   "outputs": [],
   "source": [
    "perImg = docTxt.split('PieceCoordinates = ')\n",
    "perImg.pop(0) # Remove pixel spacing etc line\n",
    "peiceCoordinatesXYZ = list(map(lambda x: x.split('StagePosition')[0], perImg)) # Remove everything after the Z position in \"PieceCoordiates\"\n",
    "if len(peiceCoordinatesXYZ) != len(tifFiles):\n",
    "    raise ValueError(f'Number of images ({len(tifFiles)}) does not match number of PieceCoordinates ({len(peiceCoordinatesXYZ)}).')"
   ]
  },
  {
   "cell_type": "code",
   "execution_count": null,
   "id": "49b9e5c1",
   "metadata": {},
   "outputs": [],
   "source": [
    "# Build output string to write to file\n",
    "outString = \"dim = 2\\n\" # Always first line\n",
    "print(outString)"
   ]
  }
 ],
 "metadata": {
  "kernelspec": {
   "display_name": "base",
   "language": "python",
   "name": "python3"
  },
  "language_info": {
   "codemirror_mode": {
    "name": "ipython",
    "version": 3
   },
   "file_extension": ".py",
   "mimetype": "text/x-python",
   "name": "python",
   "nbconvert_exporter": "python",
   "pygments_lexer": "ipython3",
   "version": "3.12.6"
  }
 },
 "nbformat": 4,
 "nbformat_minor": 5
}
