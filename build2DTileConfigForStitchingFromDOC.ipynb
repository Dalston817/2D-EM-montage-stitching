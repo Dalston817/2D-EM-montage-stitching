{
 "cells": [
  {
   "cell_type": "markdown",
   "id": "1d721877",
   "metadata": {},
   "source": [
    "Python version of build2DTileConfigForStitchingFromDoc.m"
   ]
  },
  {
   "cell_type": "code",
   "execution_count": 1,
   "id": "9bc1c1d2",
   "metadata": {},
   "outputs": [],
   "source": [
    "from pathlib import Path\n",
    "import warnings"
   ]
  },
  {
   "cell_type": "code",
   "execution_count": 2,
   "id": "e9990435",
   "metadata": {},
   "outputs": [
    {
     "name": "stdout",
     "output_type": "stream",
     "text": [
      "First 400 Characters in file:\n",
      "\n",
      " PixelSpacing = 24.34\n",
      "ImageFile = MontageTest_10EOD_10x10.mrc\n",
      "ImageSize = 4896 3264\n",
      "Montage = 1\n",
      "DataMode = 6\n",
      "\n",
      "[T = SerialEM: Digitized on the Hitachi HT7700               26-Feb-25  11:44:47    ]\n",
      "\n",
      "[T =     Tilt axis angle = 179.8, binning = 1  spot = 5  camera = 0]\n",
      "\n",
      "[ZValue = 0]\n",
      "TiltAngle = 0.5\n",
      "PieceCoordinates = 0 0 0\n",
      "StagePosition = -436.1 210.8\n",
      "StageZ = 0\n",
      "Magnification = 5000\n",
      "Intensity = 0.43871\n"
     ]
    }
   ],
   "source": [
    "# Select and load .idoc or .mdoc file\n",
    "workingPath = Path(r'C:\\Users\\dalst\\My Drive\\Career\\Career - MAIN\\2015-2025\\Dr bickford laboratory\\Work\\Projects\\KY INBRE\\2025 EM workshop\\Projects for day 4\\DEMO - 2D montage stitching\\10x10_12Subset')\n",
    "docFile = (list(workingPath.glob('*.mdoc*')) + list(workingPath.glob('*.idoc*'))) # .idoc* since some files are \".idoc~\" etc\n",
    "if len(docFile) != 1:\n",
    "    raise ValueError(f'Expected exactly one .mdoc or .idoc file in {workingPath}, found {len(docFile)} files.')\n",
    "docFile = docFile[0]  # Get the first file if multiple found\n",
    "tifFiles = list(workingPath.glob('*.tif*'))\n",
    "if len(tifFiles) == 0:\n",
    "    raise ValueError(f'No .tif files found in {workingPath}.')\n",
    "fID = open(docFile, 'r')\n",
    "docTxt = fID.read()\n",
    "fID.close()\n",
    "print('First 400 Characters in file:\\n\\n', docTxt[:400])"
   ]
  },
  {
   "cell_type": "code",
   "execution_count": 3,
   "id": "e03647e2",
   "metadata": {},
   "outputs": [],
   "source": [
    "perImg = docTxt.split('PieceCoordinates = ')\n",
    "perImg.pop(0) # Remove pixel spacing etc line\n",
    "peiceCoordinatesXYZ = list(map(lambda x: x.split('StagePosition')[0], perImg)) # Remove everything after the Z position in \"PieceCoordiates\"\n",
    "if len(peiceCoordinatesXYZ) != len(tifFiles):\n",
    "    raise ValueError(f'Number of images ({len(tifFiles)}) does not match number of PieceCoordinates ({len(peiceCoordinatesXYZ)}).')"
   ]
  },
  {
   "cell_type": "code",
   "execution_count": 4,
   "id": "49b9e5c1",
   "metadata": {},
   "outputs": [],
   "source": [
    "# Build output text to write to file\n",
    "outTxt = 'dim = 2\\n\\n' # Always first line\n",
    "for i, tifPath in enumerate(tifFiles):\n",
    "    cXYZ = peiceCoordinatesXYZ[i].split(' ')\n",
    "    cXY = '(' + cXYZ[0] + ', ' + cXYZ[1] + ')'\n",
    "    cRow = tifPath.name + '; ; ' + cXY\n",
    "    outTxt = outTxt + cRow + '\\n'"
   ]
  },
  {
   "cell_type": "code",
   "execution_count": null,
   "id": "0f009b3f",
   "metadata": {},
   "outputs": [
    {
     "name": "stdout",
     "output_type": "stream",
     "text": [
      "Wrote output to C:\\Users\\dalst\\My Drive\\Career\\Career - MAIN\\2015-2025\\Dr bickford laboratory\\Work\\Projects\\KY INBRE\\2025 EM workshop\\Projects for day 4\\DEMO - 2D montage stitching\\10x10_12Subset\\customTileConfig2D_python.txt\n",
      "Output:\n",
      "\n",
      " dim = 2\n",
      "\n",
      "0000.tif; ; (0, 0)\n",
      "0001.tif; ; (0, 2774)\n",
      "0002.tif; ; (0, 5548)\n",
      "0003.tif; ; (0, 8322)\n",
      "0004.tif; ; (0, 11096)\n",
      "0005.tif; ; (0, 13870)\n",
      "0006.tif; ; (0, 16644)\n",
      "0007.tif; ; (0, 19418)\n",
      "0008.tif; ; (0, 22192)\n",
      "0009.tif; ; (0, 24966)\n",
      "0010.tif; ; (4406, 0)\n",
      "0011.tif; ; (4406, 2774)\n",
      "\n"
     ]
    },
    {
     "name": "stderr",
     "output_type": "stream",
     "text": [
      "C:\\Users\\dalst\\AppData\\Local\\Temp\\ipykernel_16896\\405012435.py:3: UserWarning: Output config file customTileConfig2D_python already exists. Overwriting.\n",
      "  warnings.warn(f'Output config file {outConfigPath.stem} already exists. Overwriting.')\n"
     ]
    }
   ],
   "source": [
    "outConfigPath = tifFiles[0].parent.joinpath(Path('customTileConfig2D_python.txt'))\n",
    "if outConfigPath.exists():\n",
    "    warnings.warn(f'Output config file {outConfigPath.stem} already exists. Overwriting...')\n",
    "fID = open(outConfigPath, 'w')\n",
    "fID.write(outTxt)\n",
    "fID.close()\n",
    "print(f'Wrote output to {outConfigPath}')\n",
    "print('Output:\\n\\n', outTxt)\n"
   ]
  }
 ],
 "metadata": {
  "kernelspec": {
   "display_name": "tileStitching2D",
   "language": "python",
   "name": "python3"
  },
  "language_info": {
   "codemirror_mode": {
    "name": "ipython",
    "version": 3
   },
   "file_extension": ".py",
   "mimetype": "text/x-python",
   "name": "python",
   "nbconvert_exporter": "python",
   "pygments_lexer": "ipython3",
   "version": "3.13.5"
  }
 },
 "nbformat": 4,
 "nbformat_minor": 5
}
