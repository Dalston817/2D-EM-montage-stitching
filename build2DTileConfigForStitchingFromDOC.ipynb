{
 "cells": [
  {
   "cell_type": "markdown",
   "id": "1d721877",
   "metadata": {},
   "source": [
    "Python version of build2DTileConfigForStitchingFromDoc.m"
   ]
  },
  {
   "cell_type": "code",
   "execution_count": 1,
   "id": "9bc1c1d2",
   "metadata": {},
   "outputs": [],
   "source": [
    "from pathlib import Path"
   ]
  },
  {
   "cell_type": "code",
   "execution_count": 11,
   "id": "e9990435",
   "metadata": {},
   "outputs": [
    {
     "name": "stdout",
     "output_type": "stream",
     "text": [
      "First 100 Characters in file:\n",
      "\n",
      " PixelSpacing = 24.34\n",
      "ImageFile = MontageTest_10EOD_10x10.mrc\n",
      "ImageSize = 4896 3264\n",
      "Montage = 1\n",
      "DataM\n"
     ]
    }
   ],
   "source": [
    "# Select and load .idoc or .mdoc file\n",
    "docPath = Path(r\"D:\\D-Work local\\Github local\\KY INBRE\\emTileConfigStitching\\Example DOC files\\exampleMdoc.mdoc\")\n",
    "if not docPath.exists():\n",
    "    raise FileNotFoundError(f\"The specified file does not exist: {docPath}\")\n",
    "fID = open(docPath, \"r\")\n",
    "docTxt = fID.read()\n",
    "fID.close()\n",
    "print(\"First 100 Characters in file:\\n\\n\", docTxt[:100])  # Print the first 100 characters for verification"
   ]
  }
 ],
 "metadata": {
  "kernelspec": {
   "display_name": "base",
   "language": "python",
   "name": "python3"
  },
  "language_info": {
   "codemirror_mode": {
    "name": "ipython",
    "version": 3
   },
   "file_extension": ".py",
   "mimetype": "text/x-python",
   "name": "python",
   "nbconvert_exporter": "python",
   "pygments_lexer": "ipython3",
   "version": "3.12.6"
  }
 },
 "nbformat": 4,
 "nbformat_minor": 5
}
